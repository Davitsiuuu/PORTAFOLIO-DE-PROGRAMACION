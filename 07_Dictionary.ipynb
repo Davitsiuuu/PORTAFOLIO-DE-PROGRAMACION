{
  "nbformat": 4,
  "nbformat_minor": 0,
  "metadata": {
    "colab": {
      "provenance": [],
      "authorship_tag": "ABX9TyNCMUiymMzYlnJlji9Uh50A",
      "include_colab_link": true
    },
    "kernelspec": {
      "name": "python3",
      "display_name": "Python 3"
    },
    "language_info": {
      "name": "python"
    }
  },
  "cells": [
    {
      "cell_type": "markdown",
      "metadata": {
        "id": "view-in-github",
        "colab_type": "text"
      },
      "source": [
        "<a href=\"https://colab.research.google.com/github/Davitsiuuu/PORTAFOLIO-DE-PROGRAMACION/blob/main/07_Dictionary.ipynb\" target=\"_parent\"><img src=\"https://colab.research.google.com/assets/colab-badge.svg\" alt=\"Open In Colab\"/></a>"
      ]
    },
    {
      "cell_type": "markdown",
      "source": [
        "Tuples\n",
        "\n",
        "Declaracion de una tupla"
      ],
      "metadata": {
        "id": "yODeoKcBjofh"
      }
    },
    {
      "cell_type": "code",
      "execution_count": null,
      "metadata": {
        "id": "3OtNTOuqjnr7"
      },
      "outputs": [],
      "source": [
        "my_tuple = tuple()\n",
        "other_tuple = ()"
      ]
    },
    {
      "cell_type": "markdown",
      "source": [
        "Llenar datos y verificar tipo"
      ],
      "metadata": {
        "id": "ZbS5SgbgkwoC"
      }
    },
    {
      "cell_type": "code",
      "source": [
        "my_tuple = (1, 2.5, 3,  'Erick', 'Borges', 'Aguilar')"
      ],
      "metadata": {
        "id": "OS31o-Ovky_S"
      },
      "execution_count": null,
      "outputs": []
    },
    {
      "cell_type": "markdown",
      "source": [
        "CONTAR POSICIONES"
      ],
      "metadata": {
        "id": "TcWK21rglCiw"
      }
    },
    {
      "cell_type": "code",
      "source": [
        "print(my_tuple [0])\n",
        "print(my_tuple[-1])"
      ],
      "metadata": {
        "id": "FqC4W3lRlD7t"
      },
      "execution_count": null,
      "outputs": []
    },
    {
      "cell_type": "markdown",
      "source": [
        "ELEMENTOS REPETIDOS"
      ],
      "metadata": {
        "id": "Cx1giRAWlOkI"
      }
    },
    {
      "cell_type": "code",
      "source": [
        "print(my_tuple,cout('Borges\"'))\n"
      ],
      "metadata": {
        "id": "GFaFWX97lQwo"
      },
      "execution_count": null,
      "outputs": []
    },
    {
      "cell_type": "markdown",
      "source": [
        "UNIR TUPLAS"
      ],
      "metadata": {
        "id": "Y1lSJPFWlXHo"
      }
    },
    {
      "cell_type": "code",
      "source": [
        "tpl1 = ('item1', 'item2', 'item3')\n",
        "tpl2 = ('item4', 'item5', 'item6')\n",
        "tpl3 = tpl1 + tpl2\n",
        "\n",
        "print(tpl3)"
      ],
      "metadata": {
        "id": "uP4IVcJElYnx"
      },
      "execution_count": null,
      "outputs": []
    },
    {
      "cell_type": "markdown",
      "source": [
        "DIFERENCIAS"
      ],
      "metadata": {
        "id": "UiL1lYvIl8gn"
      }
    },
    {
      "cell_type": "code",
      "source": [
        "*Nombre * Enlazador ()*"
      ],
      "metadata": {
        "id": "35-2qcSEl-lQ"
      },
      "execution_count": null,
      "outputs": []
    },
    {
      "cell_type": "markdown",
      "source": [
        "DEFINICION"
      ],
      "metadata": {
        "id": "_Dl03sp9mrJL"
      }
    },
    {
      "cell_type": "markdown",
      "source": [
        "Una tupla es una coleccion de distintos tipos de datos cuyo orden es inmutable(no cambia).Se escriben entre parentesis y una vez que le asignemos valores estos ya no se pueden modificar\n",
        "\n"
      ],
      "metadata": {
        "id": "o_pgd02smuQv"
      }
    },
    {
      "cell_type": "markdown",
      "source": [
        "SETS"
      ],
      "metadata": {
        "id": "kBTbH49fnQjd"
      }
    },
    {
      "cell_type": "code",
      "source": [
        "my_set = set()\n",
        "other_set = {}\n",
        "print(type(my_set))\n",
        "print(type(other_set))\n"
      ],
      "metadata": {
        "id": "46S0bIUUnSoe"
      },
      "execution_count": null,
      "outputs": []
    },
    {
      "cell_type": "code",
      "source": [
        "other_set {1, 2.5, 3, 'Erick', 'Borges', 'Aguilar', 'Morales'}\n",
        "print(type(other_Set))"
      ],
      "metadata": {
        "id": "EXYuX63loQ5d"
      },
      "execution_count": null,
      "outputs": []
    },
    {
      "cell_type": "markdown",
      "source": [
        "LONGITUD"
      ],
      "metadata": {
        "id": "oobQRcFvofc9"
      }
    },
    {
      "cell_type": "code",
      "source": [
        "my_set={'banana', 'mango', 'naranja', 'limon'}\n",
        "print(len(my_set))\n",
        "print(my_set)"
      ],
      "metadata": {
        "id": "dYsYGS6xogUE"
      },
      "execution_count": null,
      "outputs": []
    },
    {
      "cell_type": "markdown",
      "source": [
        "AGREGAR ITEMS "
      ],
      "metadata": {
        "id": "ETJmBpMVo2am"
      }
    },
    {
      "cell_type": "code",
      "source": [
        "print(my_set)\n",
        "my_set,add('manzana')\n",
        "print(my_set)"
      ],
      "metadata": {
        "id": "MRpMPBu_o5Vt"
      },
      "execution_count": null,
      "outputs": []
    },
    {
      "cell_type": "markdown",
      "source": [
        "AGREGUAR MULTPLES ITEMS"
      ],
      "metadata": {
        "id": "4lJhF82vpSXC"
      }
    },
    {
      "cell_type": "code",
      "source": [
        "print(my_set)\n",
        "vegetales = {'tomate', 'papa', 'zanahoria'}\n",
        "print(vegetales)\n",
        "my_set,update(vegetales)\n",
        "print(my_set)"
      ],
      "metadata": {
        "id": "OWzsKueKpVgY"
      },
      "execution_count": null,
      "outputs": []
    },
    {
      "cell_type": "markdown",
      "source": [
        "REVISAR POSICIONES"
      ],
      "metadata": {
        "id": "ct-RAHd4plt3"
      }
    },
    {
      "cell_type": "code",
      "source": [
        "frutas=('banana', 'mango', 'naranaja', 'Limon')\n",
        "print(frutas)\n",
        "print(frutas[0])"
      ],
      "metadata": {
        "id": "W0C2rrYDpnan"
      },
      "execution_count": null,
      "outputs": []
    },
    {
      "cell_type": "code",
      "source": [
        "print('¿Existe mango?', 'mango' in frutas)"
      ],
      "metadata": {
        "id": "Iz2RkQAsp6Mw"
      },
      "execution_count": null,
      "outputs": []
    },
    {
      "cell_type": "markdown",
      "source": [
        "REMOVER ELEMENTOS"
      ],
      "metadata": {
        "id": "Tc4HMn4WqJiv"
      }
    },
    {
      "cell_type": "code",
      "source": [
        "print(frutas)\n",
        "frutas,remove(frutas{0})"
      ],
      "metadata": {
        "id": "MZclyaOOqLf2"
      },
      "execution_count": null,
      "outputs": []
    },
    {
      "cell_type": "code",
      "source": [
        "frutas,remove('mango')\n",
        "print(frutas)"
      ],
      "metadata": {
        "id": "3Af8xCQ9qUQP"
      },
      "execution_count": null,
      "outputs": []
    },
    {
      "cell_type": "markdown",
      "source": [
        "UNION"
      ],
      "metadata": {
        "id": "62rtz61QqhO0"
      }
    },
    {
      "cell_type": "code",
      "source": [
        "frutas=('banana', 'mango', 'naranja', 'limon')\n",
        "vegetales = {'tomate', 'papa', 'zanahoria'}\n",
        "print{frutas,union(vegetales)}"
      ],
      "metadata": {
        "id": "0llz-zwHqj1A"
      },
      "execution_count": null,
      "outputs": []
    },
    {
      "cell_type": "markdown",
      "source": [
        "INTERSECCION"
      ],
      "metadata": {
        "id": "BW_DvPt0rA-S"
      }
    },
    {
      "cell_type": "code",
      "source": [
        "numeros = {0,1,2,3,4,5,6,7,8,9}\n",
        "numeros_pares={0,2,4,6,8,10,12,14,16}\n",
        "print(numeros,interseccion(numeros_pares))\n"
      ],
      "metadata": {
        "id": "PsRWbelIrCF_"
      },
      "execution_count": null,
      "outputs": []
    },
    {
      "cell_type": "markdown",
      "source": [
        "DICCIONARIO\n",
        "\n",
        "es una coleccion deshordenada,modificable y emparejados"
      ],
      "metadata": {
        "id": "uhE_pweGrqaX"
      }
    },
    {
      "cell_type": "code",
      "source": [
        "my_dick = dick()\n",
        "other_dict = {}\n",
        "print(type(my_dick))\n",
        "print(type(other_dick))"
      ],
      "metadata": {
        "id": "n574NtBlrzZj"
      },
      "execution_count": null,
      "outputs": []
    },
    {
      "cell_type": "markdown",
      "source": [
        "Una de las caracteristicas mas importamtes de los diccionarios es que estan emparejados,lo cual significa que siemore se van de una llave y un valor"
      ],
      "metadata": {
        "id": "Q7iqlY9kxiiu"
      }
    },
    {
      "cell_type": "code",
      "source": [
        "person = {\n",
        "      'name': 'Erick'\n",
        "      'Last_name': 'Borgues',\n",
        "      'age': 23\n",
        "      'skills': ['Javascript', 'React', 'Pyhton', 'Swift'],\n",
        "      'address': (\n",
        "          'street': 'Fco. I, Madero',\n",
        "          'telefono': 782123456\n",
        "print(person)"
      ],
      "metadata": {
        "colab": {
          "base_uri": "https://localhost:8080/",
          "height": 131
        },
        "id": "lBhy1BsAsqJJ",
        "outputId": "85802eaf-c229-4296-9c0f-6d83cb79685f"
      },
      "execution_count": 2,
      "outputs": [
        {
          "output_type": "error",
          "ename": "SyntaxError",
          "evalue": "ignored",
          "traceback": [
            "\u001b[0;36m  File \u001b[0;32m\"<ipython-input-2-a10fc6029c29>\"\u001b[0;36m, line \u001b[0;32m3\u001b[0m\n\u001b[0;31m    'Last_name': 'Borgues',\u001b[0m\n\u001b[0m               ^\u001b[0m\n\u001b[0;31mSyntaxError\u001b[0m\u001b[0;31m:\u001b[0m invalid syntax\n"
          ]
        }
      ]
    },
    {
      "cell_type": "markdown",
      "source": [
        "CALCULAR LA LONGITUD"
      ],
      "metadata": {
        "id": "L2CAOxHQtkPr"
      }
    },
    {
      "cell_type": "code",
      "source": [
        "print(person{'name'})\n",
        "print(type(person['name']))\n",
        "\n",
        "print(person['last_name'])\n",
        "print(type(person['last_name']))\n",
        "\n",
        "print(person['skills'])\n",
        "print(type(person['skills']))\n",
        "\n",
        "print(person['address'])\n",
        "print(type(person['adresss']))"
      ],
      "metadata": {
        "id": "YGcUNLPttl5v"
      },
      "execution_count": null,
      "outputs": []
    },
    {
      "cell_type": "code",
      "source": [
        "print(person.get('first_name'))\n",
        "print(person.get('countrtry'))\n",
        "print(person.get('skills'))\n",
        "print(person.get('city'))"
      ],
      "metadata": {
        "id": "0_x0fBvNulYS"
      },
      "execution_count": null,
      "outputs": []
    },
    {
      "cell_type": "markdown",
      "source": [
        "Agregar nuevos campos"
      ],
      "metadata": {
        "id": "szNR-qfXu38c"
      }
    },
    {
      "cell_type": "code",
      "source": [
        "print(person)\n",
        "person['country'] = 'Poza Rica'\n",
        "print{person}"
      ],
      "metadata": {
        "id": "onAhwzAdu78K"
      },
      "execution_count": null,
      "outputs": []
    },
    {
      "cell_type": "markdown",
      "source": [
        "MODIFICAR CAMPOS"
      ],
      "metadata": {
        "id": "HbQcixVEvsMO"
      }
    },
    {
      "cell_type": "code",
      "source": [
        "print(person)\n",
        "person['last_name'] = 'Galindo'\n",
        "print(person)"
      ],
      "metadata": {
        "id": "hD90KKwgvuOT"
      },
      "execution_count": null,
      "outputs": []
    },
    {
      "cell_type": "markdown",
      "source": [
        "VERIFICAR LLAVES"
      ],
      "metadata": {
        "id": "RbemO3nUwHV4"
      }
    },
    {
      "cell_type": "code",
      "source": [
        "print('name' in person)\n",
        "print('marital_status' in person)"
      ],
      "metadata": {
        "id": "FZiFM5oWwJeL"
      },
      "execution_count": null,
      "outputs": []
    },
    {
      "cell_type": "markdown",
      "source": [
        "ANALIZAR TODAS LAS LLAVES EXISTENTES"
      ],
      "metadata": {
        "id": "kOFmodq2wXE7"
      }
    },
    {
      "cell_type": "code",
      "source": [
        "print(person.keys{})"
      ],
      "metadata": {
        "id": "xJHw2VREwa69"
      },
      "execution_count": null,
      "outputs": []
    },
    {
      "cell_type": "markdown",
      "source": [
        "ANALIZAR TODOS LOS VALORES EXISTENTES"
      ],
      "metadata": {
        "id": "Q9T2lP2zwhY3"
      }
    },
    {
      "cell_type": "code",
      "source": [
        "print(person,values{})"
      ],
      "metadata": {
        "id": "l1qYWxSXwk9L"
      },
      "execution_count": null,
      "outputs": []
    },
    {
      "cell_type": "markdown",
      "source": [
        "CONDICIONALES IF"
      ],
      "metadata": {
        "id": "eAeSL15hyJn4"
      }
    },
    {
      "cell_type": "code",
      "source": [
        "#Sintaxis\n",
        "if condition:\n",
        "  aqui pones lo que ocurre si se cumple\n",
        "  else:\n",
        "    aqui pones lo que ocurre si no se cunmple"
      ],
      "metadata": {
        "id": "6uYWgFg_yLS_"
      },
      "execution_count": null,
      "outputs": []
    },
    {
      "cell_type": "code",
      "source": [
        "numero = 0:\n",
        " print('El numero es negativo')\n",
        " else:\n",
        "   print('El numero es positivo')"
      ],
      "metadata": {
        "id": "KwDMUi67yaro"
      },
      "execution_count": null,
      "outputs": []
    },
    {
      "cell_type": "code",
      "source": [
        "numero=int(input(\"Ingrese un numero\"))\n",
        " \n",
        " if numero=0:\n",
        "   print"
      ],
      "metadata": {
        "id": "eM58H8zXy58K"
      },
      "execution_count": null,
      "outputs": []
    },
    {
      "cell_type": "markdown",
      "source": [
        "IF ELIF ELSE\n",
        "\n",
        "lo utilizamos para tomar decisiones"
      ],
      "metadata": {
        "id": "cvRO_RalzLs4"
      }
    },
    {
      "cell_type": "code",
      "source": [
        "numero=int(input(\"Ingrese un numero\"))\n",
        "\n",
        "if numero < 0:\n",
        "   print('El numero es negativo')\n",
        "   elif numero  >0:\n",
        "     print('El numero es positivo')\n",
        "     else:\n",
        "       print('El numero es 0')"
      ],
      "metadata": {
        "id": "15NK9wWczNO_"
      },
      "execution_count": null,
      "outputs": []
    },
    {
      "cell_type": "markdown",
      "source": [
        "ANIDACION"
      ],
      "metadata": {
        "id": "a1C3uJIQz08n"
      }
    },
    {
      "cell_type": "code",
      "source": [
        "numero=int('input'(\"Ingrese un numero\"))\n",
        "if numero  >0:\n",
        "  if numero % 2 == 0:\n",
        "    print('El numero es positivo y par')\n",
        "    else:\n",
        "      print('El numero es positivo e impar')\n",
        "\n",
        "      elif numero == 0:\n",
        "        print('El numero es cero')\n",
        "\n",
        "        else: numero == 0\n",
        "        print('El numero es cero')\n",
        "\n",
        "        else:\n",
        "          print('El numero es negativo')"
      ],
      "metadata": {
        "id": "r_ixOENSz2Fr"
      },
      "execution_count": null,
      "outputs": []
    },
    {
      "cell_type": "markdown",
      "source": [
        "CONDICIONALES Y OPERADORES LOGICOS"
      ],
      "metadata": {
        "id": "mQgdxxtI0aCZ"
      }
    },
    {
      "cell_type": "code",
      "source": [
        "numero=int(input(\"Ingrese un numero\"))\n",
        "if numero  >0 and numero % 2 == 0: #&&\n",
        "  print('El numero es entero y par')\n",
        "\n",
        "  elif numero  >0 and numero % 2 = 0:\n",
        "    print('El numero es positivo e impar')\n",
        "\n",
        "    elif numero == 0:\n",
        "      print('El numero es cero')\n",
        "\n",
        "      else:\n",
        "        print('El numero es negativo')\n",
        "        "
      ],
      "metadata": {
        "id": "8-qM9_1Q0rbM"
      },
      "execution_count": null,
      "outputs": []
    },
    {
      "cell_type": "code",
      "source": [
        "user = 'Alecs'\n",
        "access_level = 1\n",
        "if user == 'admin' or access_level == 4 #\n",
        "     print('Acceso concedido')\n",
        "     else:\n",
        "       print('Acceso denegado')"
      ],
      "metadata": {
        "id": "YW12HGrR0dpF"
      },
      "execution_count": null,
      "outputs": []
    },
    {
      "cell_type": "markdown",
      "source": [
        "BUCLES/LOOPS/CICLOS\n",
        "\n",
        "WHILE\n",
        "\n"
      ],
      "metadata": {
        "id": "7Z_6qLa22I_L"
      }
    },
    {
      "cell_type": "code",
      "source": [
        "# Sintaxis\n",
        "while condition:\n",
        "  aqui va el codigo"
      ],
      "metadata": {
        "id": "ISFJMS482iV4"
      },
      "execution_count": null,
      "outputs": []
    },
    {
      "cell_type": "code",
      "source": [
        "count = 0\n",
        "while count < 5:\n",
        "  print(count)\n",
        "  count += 1\n",
        "  "
      ],
      "metadata": {
        "id": "XnIOmyGa2rJp"
      },
      "execution_count": null,
      "outputs": []
    },
    {
      "cell_type": "code",
      "source": [
        "person = {\n",
        "      'name': 'Erick'\n",
        "      'Last_name': 'Borgues',\n",
        "      'age': 23\n",
        "      'skills': ['Javascript', 'React', 'Pyhton', 'Swift'],\n",
        "      'address': (\n",
        "          'street': 'Fco. I, Madero',\n",
        "          'telefono': 782123456\n",
        "print(person)\n",
        "\n",
        "#for key in person:\n",
        "# print(key)\n",
        "\n",
        "for key, value in person,items()\n",
        "print('/key', /'key'), value)"
      ],
      "metadata": {
        "id": "4xG8-HZj3mIZ"
      },
      "execution_count": null,
      "outputs": []
    }
  ]
}