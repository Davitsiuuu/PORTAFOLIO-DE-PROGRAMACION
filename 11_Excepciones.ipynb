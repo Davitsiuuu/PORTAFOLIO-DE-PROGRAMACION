{
  "nbformat": 4,
  "nbformat_minor": 0,
  "metadata": {
    "colab": {
      "provenance": [],
      "authorship_tag": "ABX9TyM6t4eqzrzPx7KiSJACTr1d",
      "include_colab_link": true
    },
    "kernelspec": {
      "name": "python3",
      "display_name": "Python 3"
    },
    "language_info": {
      "name": "python"
    }
  },
  "cells": [
    {
      "cell_type": "markdown",
      "metadata": {
        "id": "view-in-github",
        "colab_type": "text"
      },
      "source": [
        "<a href=\"https://colab.research.google.com/github/Davitsiuuu/PORTAFOLIO-DE-PROGRAMACION/blob/main/11_Excepciones.ipynb\" target=\"_parent\"><img src=\"https://colab.research.google.com/assets/colab-badge.svg\" alt=\"Open In Colab\"/></a>"
      ]
    },
    {
      "cell_type": "markdown",
      "source": [
        "Excepciones\n",
        "\n",
        "las excepciones son utilizadas para el manejo de errores.Cuando se traba de errores "
      ],
      "metadata": {
        "id": "A7wAE9mQ_cfC"
      }
    },
    {
      "cell_type": "code",
      "execution_count": null,
      "metadata": {
        "id": "-ut3C7oV_Zu6"
      },
      "outputs": [],
      "source": [
        "#Sintaxis\n",
        "try:\n",
        "  run this code\n",
        "  except:\n",
        "    Execute this code when there is an error\n",
        "    else:\n",
        "      whiout errors? Run this code\n",
        "      finally:\n",
        "        Always run this code"
      ]
    },
    {
      "cell_type": "markdown",
      "source": [
        "EJEMPLO DEL ERROR"
      ],
      "metadata": {
        "id": "daowcRO2_9Yp"
      }
    },
    {
      "cell_type": "code",
      "source": [
        "number0ne = 5\n",
        "numberTwho = 1\n",
        "numberTwo = '1'"
      ],
      "metadata": {
        "id": "zUpYm5b2ANKs"
      },
      "execution_count": null,
      "outputs": []
    },
    {
      "cell_type": "code",
      "source": [
        "print(number0ne + numberTwo)\n",
        "#El tener un error directo en consola significa que nuestro programa se murio"
      ],
      "metadata": {
        "id": "ZfgkY1gxAXKN"
      },
      "execution_count": null,
      "outputs": []
    },
    {
      "cell_type": "markdown",
      "source": [
        "Aplicando try - except"
      ],
      "metadata": {
        "id": "R67JxP-4Aoan"
      }
    },
    {
      "cell_type": "code",
      "source": [
        "#Try - Except\n",
        "try:\n",
        "  print(number0ne + numberTwo)\n",
        "  print('No hay ningun error')\n",
        "  except:\n",
        "    #Se ejecuta si se produce una excepcion\n",
        "    print('Se ha producido un error')\n",
        "    else:\n",
        "      #Se ejecuta si no se produce una excepcion\n",
        "      print('La ejecucion continua correctamente')"
      ],
      "metadata": {
        "id": "xrOH9uSUArri"
      },
      "execution_count": null,
      "outputs": []
    },
    {
      "cell_type": "markdown",
      "source": [
        "Aplicando try - Except - Else"
      ],
      "metadata": {
        "id": "ua9C-qOEBGxw"
      }
    },
    {
      "cell_type": "code",
      "source": [
        "#Try - Except - Else (0pcional)\n",
        "number0ne = 1\n",
        "numberTwo = 2\n",
        "#numberTwo = '2'\n",
        "try:\n",
        "  print(number0ne + numberTwo)\n",
        "  print('No hay nungun error')\n",
        "  except:\n",
        "    print('Se ha producido un error')\n",
        "    else:\n",
        "      print('La ejecucion continua correctamente')\n",
        "      finally:\n",
        "        #Esto siempre se ejecuta\n",
        "        print('La ejecucuion sigue')"
      ],
      "metadata": {
        "id": "g-at4YaQBL0n"
      },
      "execution_count": null,
      "outputs": []
    },
    {
      "cell_type": "markdown",
      "source": [
        "Analizando tipos de errores"
      ],
      "metadata": {
        "id": "AExW4L2kCi9S"
      }
    },
    {
      "cell_type": "code",
      "source": [
        "number0ne = 5\n",
        "numberTwo = 1\n",
        "numberTwo = '1'\n",
        "\n",
        "print(number0ne + numberTwo)"
      ],
      "metadata": {
        "id": "SW9kN1mbClHA"
      },
      "execution_count": null,
      "outputs": []
    },
    {
      "cell_type": "code",
      "source": [
        "try:\n",
        "  print(number0ne + numberTwo)\n",
        "  print('No hay ningun error')\n",
        "  except TypeError:\n",
        "    #Se ejecuta unicamnete si el error es en el tipo de dato\n",
        "    print('Se ha producido un error')"
      ],
      "metadata": {
        "id": "4JbuhwyNCyr0"
      },
      "execution_count": null,
      "outputs": []
    },
    {
      "cell_type": "code",
      "source": [
        "#Solucionado el error\n",
        "try:\n",
        "  print(number0ne + numberTwo)\n",
        "  print('No hay nungun error')\n",
        "  except TypeError:\n",
        "    print('Hubo un error')\n",
        "    print('Pero ya lo arregle')\n",
        "    fix0ne = int(number0ne)\n",
        "    fixTwo = int(numberTwo)\n",
        "    print(fix0ne + fixTwo)"
      ],
      "metadata": {
        "id": "XZtNmsatDIyx"
      },
      "execution_count": null,
      "outputs": []
    },
    {
      "cell_type": "code",
      "source": [
        "#Hay muchos tipos de errores\n",
        "try:\n",
        "  print(number0ne + numberTwo)\n",
        "  print('No hay ningun error')\n",
        "  except ValueError:\n",
        "    print('Hubo un error')"
      ],
      "metadata": {
        "id": "1wWe0SwaDqX8"
      },
      "execution_count": null,
      "outputs": []
    },
    {
      "cell_type": "code",
      "source": [
        "try:\n",
        "  print(number0ne + numberTwo)\n",
        "  print('No hay ningun error')\n",
        "  except TypeError:\n",
        "    print('Se ha producido TypeError')\n",
        "    except ValueErrror:\n",
        "      print('Hubo un error de valor')"
      ],
      "metadata": {
        "id": "1wSuXqzvEVT5"
      },
      "execution_count": null,
      "outputs": []
    },
    {
      "cell_type": "code",
      "source": [
        "number0ne = 5\n",
        "numberTwo = 1\n",
        "numberTwo ='1'\n",
        "\n",
        "try:\n",
        "  print(number0ne + numberTwo)\n",
        "  print('No hay ningun error')\n",
        "  except TypeError as e:\n",
        "    print(e)\n",
        "\n",
        "    #Asignamos el error ocurrido a una variable e imprimos la informacion del error\n",
        "    #Esto funciona mayormente en VSCode, trabajando en Collab tenemos esta informacion"
      ],
      "metadata": {
        "id": "PFFpt6kXE8gl"
      },
      "execution_count": null,
      "outputs": []
    },
    {
      "cell_type": "code",
      "source": [],
      "metadata": {
        "id": "fzX3-dRDFnQ4"
      },
      "execution_count": null,
      "outputs": []
    }
  ]
}