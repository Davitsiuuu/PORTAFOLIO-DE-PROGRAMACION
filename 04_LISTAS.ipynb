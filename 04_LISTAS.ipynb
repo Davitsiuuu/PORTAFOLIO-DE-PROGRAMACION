{
  "nbformat": 4,
  "nbformat_minor": 0,
  "metadata": {
    "colab": {
      "provenance": [],
      "authorship_tag": "ABX9TyNj41M4a8z+oGW5rzkz581j",
      "include_colab_link": true
    },
    "kernelspec": {
      "name": "python3",
      "display_name": "Python 3"
    },
    "language_info": {
      "name": "python"
    }
  },
  "cells": [
    {
      "cell_type": "markdown",
      "metadata": {
        "id": "view-in-github",
        "colab_type": "text"
      },
      "source": [
        "<a href=\"https://colab.research.google.com/github/Davitsiuuu/PORTAFOLIO-DE-PROGRAMACION/blob/main/04_LISTAS.ipynb\" target=\"_parent\"><img src=\"https://colab.research.google.com/assets/colab-badge.svg\" alt=\"Open In Colab\"/></a>"
      ]
    },
    {
      "cell_type": "code",
      "execution_count": null,
      "metadata": {
        "id": "7CJihJrBx1A6"
      },
      "outputs": [],
      "source": [
        "my_list = [4,5,6,7,8,9]\n",
        "print(my_list)\n",
        "print(len(my_list))\n",
        "print(len(my_list))\n",
        "print(my_list[0])\n",
        "\n"
      ]
    },
    {
      "cell_type": "code",
      "source": [
        "other_list = [1, 2.5, 3, 'Erick', 'Borges']\n",
        "print(other_list)\n",
        "print(type(other_list))"
      ],
      "metadata": {
        "id": "TmgfL2sGyhMl"
      },
      "execution_count": null,
      "outputs": []
    },
    {
      "cell_type": "code",
      "source": [
        "print(other_list[0])\n",
        "print(other_list[-1])\n",
        "print(other_list[-6])\n"
      ],
      "metadata": {
        "id": "A6fYvazYyh96"
      },
      "execution_count": null,
      "outputs": []
    },
    {
      "cell_type": "markdown",
      "source": [
        "AGREGAR COMPONENTES A  UNA LISTA"
      ],
      "metadata": {
        "id": "hi8AbjotzJJR"
      }
    },
    {
      "cell_type": "code",
      "source": [
        "frutas = ['Banana', 'naranja', 'mango', 'limon' ]\n",
        "print(frutas)\n",
        "frutas.append('manzana')\n",
        "print(frutas)\n",
        "frutas.append('aguacate')\n",
        "print(frutas)\n"
      ],
      "metadata": {
        "id": "yW1oIOmuzgT5"
      },
      "execution_count": null,
      "outputs": []
    },
    {
      "cell_type": "markdown",
      "source": [
        "INSERTAR COMPONENTES A UNA LISTA"
      ],
      "metadata": {
        "id": "jIrTC4pDz8d6"
      }
    },
    {
      "cell_type": "code",
      "source": [
        "frutas = ['banana', 'naranja', 'mango', 'limon' ]\n",
        "print(frutas)\n",
        "frutas.insert(2, ' manzana')\n",
        "print(frutas)\n",
        "frutas.insert(3, 'aguacate')\n",
        "print(frutas)"
      ],
      "metadata": {
        "id": "7SO_U3zNz-SD"
      },
      "execution_count": null,
      "outputs": []
    },
    {
      "cell_type": "markdown",
      "source": [
        "REMOVER COMPONENETS A UNA LISTA"
      ],
      "metadata": {
        "id": "AB7Lawl70ZhZ"
      }
    },
    {
      "cell_type": "code",
      "source": [
        "frutas = ['banana', 'naranja', ' mango', 'limon', 'manzana', 'aguacate']\n",
        "print(frutas)\n",
        "frutas.remove('manzana')\n",
        "print(frutas)\n",
        "frutas.remove('aguacate')\n",
        "print(frutas)\n",
        "frutas.remove(frutas[0])"
      ],
      "metadata": {
        "id": "4vfBldIX0bmC"
      },
      "execution_count": null,
      "outputs": []
    },
    {
      "cell_type": "markdown",
      "source": [
        "UNIR LISTAS"
      ],
      "metadata": {
        "id": "346BZek412OB"
      }
    },
    {
      "cell_type": "code",
      "source": [
        "positivos = [1, 2, 3, 4]\n",
        "cero = [0]\n",
        "negativos = [-1, -2, -3, - 4]\n",
        "\n",
        "enteros = negativos + cero + positivos\n",
        "\n",
        "print(enteros)\n",
        "print(len(enteros))\n"
      ],
      "metadata": {
        "id": "Eyg5uIUv13MI"
      },
      "execution_count": null,
      "outputs": []
    }
  ]
}