{
  "nbformat": 4,
  "nbformat_minor": 0,
  "metadata": {
    "colab": {
      "provenance": [],
      "authorship_tag": "ABX9TyO20jr6xe7LPsLm5FUmhDy+",
      "include_colab_link": true
    },
    "kernelspec": {
      "name": "python3",
      "display_name": "Python 3"
    },
    "language_info": {
      "name": "python"
    }
  },
  "cells": [
    {
      "cell_type": "markdown",
      "metadata": {
        "id": "view-in-github",
        "colab_type": "text"
      },
      "source": [
        "<a href=\"https://colab.research.google.com/github/Davitsiuuu/PORTAFOLIO-DE-PROGRAMACION/blob/main/10_codigo.ipynb\" target=\"_parent\"><img src=\"https://colab.research.google.com/assets/colab-badge.svg\" alt=\"Open In Colab\"/></a>"
      ]
    },
    {
      "cell_type": "markdown",
      "source": [
        "FUNIONES CON PARAMETROS\n",
        "\n",
        "A las funciones podemos añadirles parametros para que trabajen con valores ingresados porel usuario"
      ],
      "metadata": {
        "id": "mlMwoYqi84r4"
      }
    },
    {
      "cell_type": "code",
      "execution_count": null,
      "metadata": {
        "id": "vrxFlTTV82D9"
      },
      "outputs": [],
      "source": [
        "def adicion (a,b):\n",
        "  total = a+b\n",
        "  return total"
      ]
    },
    {
      "cell_type": "markdown",
      "source": [
        "ARGUMENTOS TIPO KEY:VALUE"
      ],
      "metadata": {
        "id": "kDBLDKQv9Lv8"
      }
    },
    {
      "cell_type": "code",
      "source": [
        "def person_info(name, lastname, career):\n",
        "  print f'hola' {name} {lastname}, 'Gracias por escoger la carrera de {carrera}.Conocemos con la seleccion'"
      ],
      "metadata": {
        "id": "bO-m7boj9Sw1"
      },
      "execution_count": null,
      "outputs": []
    },
    {
      "cell_type": "markdown",
      "source": [
        "TIPOS DE VALORES PARA RETORNAR"
      ],
      "metadata": {
        "id": "97Sj71Yj9xzZ"
      }
    },
    {
      "cell_type": "code",
      "source": [
        "# String\n",
        "def name(name):\n",
        "  return name\n",
        "\n",
        "  name('Erick')"
      ],
      "metadata": {
        "id": "iWoNsTom9z1t"
      },
      "execution_count": null,
      "outputs": []
    },
    {
      "cell_type": "code",
      "source": [
        "#Boleanos\n",
        "def is_pair(n):\n",
        "  if n%2 == 0:\n",
        "    return True\n",
        "    return False\n",
        "\n",
        "    print(is_pair(8))\n",
        "    print(is_pair(5))"
      ],
      "metadata": {
        "id": "LjkJBoWB992O"
      },
      "execution_count": null,
      "outputs": []
    },
    {
      "cell_type": "code",
      "source": [
        "#Listas\n",
        "def find_pair(n):\n",
        "  pairs = []\n",
        "  for i in range(n+1\n",
        "    if i%2 == 0:\n",
        "      pairs.append(i)\n",
        "      return pairs\n",
        "\n",
        "      print(find_pair(10))\n",
        "\n",
        "      [0, 2, 4, 6, 8, 10]"
      ],
      "metadata": {
        "id": "a2ceXajP-U4e"
      },
      "execution_count": null,
      "outputs": []
    },
    {
      "cell_type": "markdown",
      "source": [],
      "metadata": {
        "id": "3lHEx0c1_IyB"
      }
    }
  ]
}