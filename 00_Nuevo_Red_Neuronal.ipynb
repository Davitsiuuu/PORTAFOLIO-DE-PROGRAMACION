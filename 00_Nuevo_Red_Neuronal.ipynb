{
  "nbformat": 4,
  "nbformat_minor": 0,
  "metadata": {
    "colab": {
      "provenance": [],
      "authorship_tag": "ABX9TyOsBSij+90SKOn1mCeR8SQm",
      "include_colab_link": true
    },
    "kernelspec": {
      "name": "python3",
      "display_name": "Python 3"
    },
    "language_info": {
      "name": "python"
    }
  },
  "cells": [
    {
      "cell_type": "markdown",
      "metadata": {
        "id": "view-in-github",
        "colab_type": "text"
      },
      "source": [
        "<a href=\"https://colab.research.google.com/github/Davitsiuuu/PORTAFOLIO-DE-PROGRAMACION/blob/main/00_Nuevo_Red_Neuronal.ipynb\" target=\"_parent\"><img src=\"https://colab.research.google.com/assets/colab-badge.svg\" alt=\"Open In Colab\"/></a>"
      ]
    },
    {
      "cell_type": "code",
      "execution_count": 1,
      "metadata": {
        "id": "DRuhKYhmVkk3"
      },
      "outputs": [],
      "source": [
        "import tensorflow as tf #Libreria de la IA diseñada por google\n",
        "import numpy as np #facilita los arreglos numericos\n",
        "\n",
        "#Declarar valores de entrada y de salida\n",
        "celsius = np.array([-40, -10, 0, 8, 15, 22, 38], dtype=float)\n",
        "fahrenheit = np.array([-40, 14, 32, 46, 59, 72, 100], dtype=float)\n",
        "\n",
        "#capas\n",
        "#keras facilita el trabajo con redes reuronales(ahorra codigo)\n",
        "capa = tf.keras.layers.Dense(units=1, input_shape=[1])\n",
        "\n",
        "modelo = tf.keras.Sequential([capa])\n",
        "\n",
        "#empezar a entrenar\n",
        "modelo.compile(\n",
        "    #declaramos un optimizador\n",
        "    #los ajustes de peso y sesgo\n",
        "    optimizer = tf.keras.optimizers.Adam(0.1),\n",
        "    #calculo del error\n",
        "    loss = 'mean_squared_error'\n",
        "    )"
      ]
    },
    {
      "cell_type": "code",
      "source": [
        "print(\"comenzando el entrenamiento...\")\n",
        "historical = modelo.fit(celsius, fahrenheit, epochs=1000, verbose=False)\n",
        "print(\"Modelo entrenado\")"
      ],
      "metadata": {
        "colab": {
          "base_uri": "https://localhost:8080/"
        },
        "id": "UYOrudlEVsGz",
        "outputId": "24ca4534-f29b-47c3-8809-cd4b2be5169e"
      },
      "execution_count": 2,
      "outputs": [
        {
          "output_type": "stream",
          "name": "stdout",
          "text": [
            "comenzando el entrenamiento...\n",
            "Modelo entrenado\n"
          ]
        }
      ]
    },
    {
      "cell_type": "code",
      "source": [
        "#Vamos a graficar el error\n",
        "import matplotlib.pyplot as plt\n",
        "plt.xlabel(\"# pasos\")\n",
        "plt.ylabel(\"magnitud de perdida\")\n",
        "plt.plot (historical.history[\"loss\"])"
      ],
      "metadata": {
        "colab": {
          "base_uri": "https://localhost:8080/",
          "height": 297
        },
        "id": "pdn6jEjnVvv8",
        "outputId": "d11d6d34-f0c6-4492-d55d-10e260e6324a"
      },
      "execution_count": 3,
      "outputs": [
        {
          "output_type": "execute_result",
          "data": {
            "text/plain": [
              "[<matplotlib.lines.Line2D at 0x7f99e4e26460>]"
            ]
          },
          "metadata": {},
          "execution_count": 3
        },
        {
          "output_type": "display_data",
          "data": {
            "text/plain": [
              "<Figure size 432x288 with 1 Axes>"
            ],
            "image/png": "[encoded data removed]"
          },
          "metadata": {
            "needs_background": "light"
          }
        }
      ]
    },
    {
      "cell_type": "code",
      "source": [
        "#hagamos una prediccion\n",
        "print(\"hagamos una prediccion\")\n",
        "resultado = modelo.predict([100.00])\n",
        "print(\"resultado es\" + str(resultado)+ \"fahrenheit\")"
      ],
      "metadata": {
        "colab": {
          "base_uri": "https://localhost:8080/"
        },
        "id": "dAibGZHtV0DB",
        "outputId": "2dbd8c02-09df-4207-aea3-2bedd21b4800"
      },
      "execution_count": 4,
      "outputs": [
        {
          "output_type": "stream",
          "name": "stdout",
          "text": [
            "hagamos una prediccion\n",
            "1/1 [==============================] - 0s 206ms/step\n",
            "resultado es[[211.74348]]fahrenheit\n"
          ]
        }
      ]
    },
    {
      "cell_type": "code",
      "source": [
        "#Variables asignadas\n",
        "print(\"Variables del modelo\")\n",
        "print(capa.get_weights())"
      ],
      "metadata": {
        "colab": {
          "base_uri": "https://localhost:8080/"
        },
        "id": "LBjtgxoiV2Rs",
        "outputId": "299e11fe-9faa-437e-8cf6-2b7338bc5afc"
      },
      "execution_count": 5,
      "outputs": [
        {
          "output_type": "stream",
          "name": "stdout",
          "text": [
            "Variables del modelo\n",
            "[array([[1.7981747]], dtype=float32), array([31.926008], dtype=float32)]\n"
          ]
        }
      ]
    }
  ]
}