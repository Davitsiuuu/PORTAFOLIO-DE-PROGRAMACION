{
  "nbformat": 4,
  "nbformat_minor": 0,
  "metadata": {
    "colab": {
      "provenance": [],
      "authorship_tag": "ABX9TyOkQm7HUJbJ5E4PajKNYrVa",
      "include_colab_link": true
    },
    "kernelspec": {
      "name": "python3",
      "display_name": "Python 3"
    },
    "language_info": {
      "name": "python"
    }
  },
  "cells": [
    {
      "cell_type": "markdown",
      "metadata": {
        "id": "view-in-github",
        "colab_type": "text"
      },
      "source": [
        "<a href=\"https://colab.research.google.com/github/Davitsiuuu/PORTAFOLIO-DE-PROGRAMACION/blob/main/03_STRINGS.ipynb\" target=\"_parent\"><img src=\"https://colab.research.google.com/assets/colab-badge.svg\" alt=\"Open In Colab\"/></a>"
      ]
    },
    {
      "cell_type": "markdown",
      "source": [
        "STRINGS\n",
        "\n",
        "---\n",
        "\n",
        "\n",
        "\n",
        "---\n",
        "\n"
      ],
      "metadata": {
        "id": "Fvptc7dZiA-J"
      }
    },
    {
      "cell_type": "markdown",
      "source": [
        "Son el tipo de dato incluye textos.Cualquier informacion escrita como un teto es considerado como 'string'"
      ],
      "metadata": {
        "id": "3foo4V0viFMn"
      }
    },
    {
      "cell_type": "code",
      "execution_count": null,
      "metadata": {
        "id": "9VxfsucVh-wk"
      },
      "outputs": [],
      "source": [
        "letra = 'p'               #Una sola letra  puede considerar un string\n",
        "print(letra)\n",
        "print(len(letra))          #Podemos  calcular su longitud\n",
        "saludo = 'Helo, World'     #Un string puede ser una palabra o varias\n",
        "print(saludo)              #Hello,Word\n",
        "print(len(saludo))         #13\n",
        "oracion = \"I hope you are enyoying 30 days of Python Challenge\"\n",
        "print(oracion)\n",
        "print(len(oracion))"
      ]
    },
    {
      "cell_type": "markdown",
      "source": [
        "Tambien podemos crear strings multilineas haciendo uso de tres comillas simples(*) o tres pares de comillas dobles "
      ],
      "metadata": {
        "id": "hESWVcBUjQTK"
      }
    },
    {
      "cell_type": "code",
      "source": [
        "#Otra forma de hacer excatamente  lo mismo\n",
        "multiline_string = \"\"\"Pac man originalmente se llamaba Puck Man.\n",
        "Lo cambiaron no por que Pac-man fuera redondo.}\n",
        "Paku paku significa abrir y cerrar la boca y tuvieron miedo que la gente tachara la 'P' y\n",
        "la conviertiera en 'F'.\"\"\"\n",
        "print(multiline_string)"
      ],
      "metadata": {
        "id": "Y8wzhK2ZjntN"
      },
      "execution_count": null,
      "outputs": []
    },
    {
      "cell_type": "markdown",
      "source": [
        "SECUENCIA DE ESCAPE"
      ],
      "metadata": {
        "id": "e9lSK-xFkN2V"
      }
    },
    {
      "cell_type": "code",
      "source": [
        "-Una linea nueva\n",
        "-/t tabulacion (8 espacios)\n",
        "-/ Back slash\n",
        "-Single quote\n",
        "-Double quote (*)"
      ],
      "metadata": {
        "id": "nAGqRA59kPd-"
      },
      "execution_count": null,
      "outputs": []
    },
    {
      "cell_type": "code",
      "source": [
        "print('Este es un ejemplo de salto de linea.\\n¿Lo notas?') #Line break\n",
        "print('Dia\\tTemas\\tEjercicios') #Agregando una tabulacion\n",
        "print('Dia 1\\t3\\t5')\n",
        "print('Dia 2\\t3\\t5')\n",
        "print('Dia 3\\t3\\t5')\n",
        "print('Dia 4\\t3\\t5')\n",
        "print('Este es un simbolo backslash (\\\\)') #Para escribir un backslash\n",
        "print('In every programming language it starts with \\\"Hello,Word\")\n"
      ],
      "metadata": {
        "id": "fhdI-DzpkgdO"
      },
      "execution_count": null,
      "outputs": []
    },
    {
      "cell_type": "markdown",
      "source": [
        "Strings con variables"
      ],
      "metadata": {
        "id": "T0wUQ5hXmGwL"
      }
    },
    {
      "cell_type": "code",
      "source": [
        "name, surname, alias, age = \"Erick\", \"Borges\", \"Alecs\", 23\n",
        "\n",
        "print(\"Me llamo:\", name, surname)\n",
        "print(\"Mi edad es:\", age, \", Mis amigos me dicen:\", alias)\n"
      ],
      "metadata": {
        "id": "0r6moVt3mSuL"
      },
      "execution_count": null,
      "outputs": []
    },
    {
      "cell_type": "code",
      "source": [
        "print(\"Mi nombres es {} {} y mi edad es {}\", format(name, surname, age))\n",
        "print(\"Mi nombre es %5 %5 y mi edad es %d\" %(name, surname, age))\n",
        "print(f\"Mi nombre es {name} {surname} y mi edad es {age}\") #Esta es la mejor,"
      ],
      "metadata": {
        "id": "c2ZZTU6mnA9u"
      },
      "execution_count": null,
      "outputs": []
    },
    {
      "cell_type": "markdown",
      "source": [
        "Strings secuencia de caracteres"
      ],
      "metadata": {
        "id": "PzYysYpRoC56"
      }
    },
    {
      "cell_type": "markdown",
      "source": [
        "Los strings son secuencias de letras que forman palabras.Tenemos distintas maneras de descomponer un string en cada una unidades, sin embargo la manera mas simple de extraer cada miembro de un string es desempaquetar variables"
      ],
      "metadata": {
        "id": "jeujFfj3oSG5"
      }
    },
    {
      "cell_type": "code",
      "source": [
        "lenguaje = 'Pyhton'\n",
        "a,b,c,d,e,f = lenguaje\n",
        "print(a)\n",
        "print(b)\n",
        "print(c)\n",
        "print(d)\n",
        "print(e)\n",
        "print(f)"
      ],
      "metadata": {
        "id": "3gOZC_UQop_R"
      },
      "execution_count": null,
      "outputs": []
    },
    {
      "cell_type": "markdown",
      "source": [
        "Recortando strings"
      ],
      "metadata": {
        "id": "b0w8XJSEpMw6"
      }
    },
    {
      "cell_type": "code",
      "source": [
        "lenguaje = 'python'\n",
        "primeros_tres = lenguaje(0:3)  #starts at zero index and up to 3 but not include 3\n",
        "print(primeros_tres = lenguaje[3:6])\n",
        "print(ultimos_tres) #Hon\n",
        "\n",
        "#Otra forma\n",
        "ultimos_tres = lenguaje[-3:]\n",
        "print(ultimas_tres) #hon\n",
        "ultimos_tres lenguaje[:-3]\n",
        "print()"
      ],
      "metadata": {
        "id": "SwHz41gnpfF_"
      },
      "execution_count": null,
      "outputs": []
    },
    {
      "cell_type": "markdown",
      "source": [
        "Saltando letras"
      ],
      "metadata": {
        "id": "ODRKsgPgqmG5"
      }
    },
    {
      "cell_type": "code",
      "source": [
        "lenguaje = 'Python\n",
        "new = lenguaje[0:0:2]\n",
        "print(new)"
      ],
      "metadata": {
        "id": "urllOAnlqorg"
      },
      "execution_count": null,
      "outputs": []
    },
    {
      "cell_type": "markdown",
      "source": [
        "METODOS CON STRING"
      ],
      "metadata": {
        "id": "bokZayYzq3al"
      }
    },
    {
      "cell_type": "markdown",
      "source": [
        "convertir la primera letra en mayuscula"
      ],
      "metadata": {
        "id": "v6p_x5AYq5Wg"
      }
    },
    {
      "cell_type": "code",
      "source": [
        "text = 'aprendiendo', 'Python', 'en', 'clase'\n",
        "print(type(text))\n",
        "text = 'aprendiendo python en clase'\n",
        "print(type(text))\n",
        "print(text.capitalize())"
      ],
      "metadata": {
        "id": "bYmCSDcCq8ua"
      },
      "execution_count": null,
      "outputs": []
    },
    {
      "cell_type": "markdown",
      "source": [
        "CONTAR LAS VECES QUE SE REPITE UN CARACTER"
      ],
      "metadata": {
        "id": "XiSFAsYar5kD"
      }
    },
    {
      "cell_type": "code",
      "source": [
        "text = 'aprendiendo python en clase'\n",
        "print(text.count('a'))\n",
        "print(text.count('y', 7, 14))\n",
        "print(text,count('en'))\n",
        "\n"
      ],
      "metadata": {
        "id": "06ZXCB1dr9ik"
      },
      "execution_count": null,
      "outputs": []
    },
    {
      "cell_type": "markdown",
      "source": [
        "REGRESA LA POSICION DONDESE ENCUENTRE EL CARACTER"
      ],
      "metadata": {
        "id": "nEoTDSQ2sU-O"
      }
    },
    {
      "cell_type": "code",
      "source": [
        "text = 'aprendiendo python en clase'\n",
        "print(text.find('y'))\n",
        "print(text.find('th'))\n",
        "print(text.find('am'))"
      ],
      "metadata": {
        "id": "YZRdJJ7nsZEK"
      },
      "execution_count": null,
      "outputs": []
    },
    {
      "cell_type": "markdown",
      "source": [
        "ACTIVIDAD\n",
        "\n",
        "genera palindromos y comprueba que efectivamente lo son"
      ],
      "metadata": {
        "id": "ZdVpK2IVtMct"
      }
    },
    {
      "cell_type": "code",
      "source": [],
      "metadata": {
        "colab": {
          "base_uri": "https://localhost:8080/"
        },
        "id": "7oErmnaKtT4v",
        "outputId": "5d062d95-2fa7-48c7-9792-765c7a22d339"
      },
      "execution_count": 2,
      "outputs": [
        {
          "output_type": "stream",
          "name": "stdout",
          "text": [
            "levellevel\n",
            "The generated string is a palindrome.\n"
          ]
        }
      ]
    }
  ]
}