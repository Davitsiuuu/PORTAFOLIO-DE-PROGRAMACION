{
  "nbformat": 4,
  "nbformat_minor": 0,
  "metadata": {
    "colab": {
      "provenance": [],
      "authorship_tag": "ABX9TyOSsb4bAH/IczlG25bZqayt",
      "include_colab_link": true
    },
    "kernelspec": {
      "name": "python3",
      "display_name": "Python 3"
    },
    "language_info": {
      "name": "python"
    }
  },
  "cells": [
    {
      "cell_type": "markdown",
      "metadata": {
        "id": "view-in-github",
        "colab_type": "text"
      },
      "source": [
        "<a href=\"https://colab.research.google.com/github/Davitsiuuu/PORTAFOLIO-DE-PROGRAMACION/blob/main/01_VARIABLES.ipynb\" target=\"_parent\"><img src=\"https://colab.research.google.com/assets/colab-badge.svg\" alt=\"Open In Colab\"/></a>"
      ]
    },
    {
      "cell_type": "markdown",
      "source": [],
      "metadata": {
        "id": "wRsED8XZ6nYL"
      }
    },
    {
      "cell_type": "markdown",
      "source": [
        "VARIABLES\n",
        "\n",
        "---\n",
        "\n",
        "\n",
        "\n",
        "En programacion existe variables, estas son usadas para asignar valores a la informacion que tenemos.Cada variable tiene un tipo espcefico de valor\n",
        "\n"
      ],
      "metadata": {
        "id": "Bsuo55ra6T61"
      }
    },
    {
      "cell_type": "code",
      "execution_count": null,
      "metadata": {
        "id": "bUwKXkpGy81o"
      },
      "outputs": [],
      "source": [
        "name= \"David sobrevilla\"\n",
        "user id= 1234567\n",
        "progress = 0.75\n",
        "exp = 60\n",
        "verified = #Bool / Booleano\n"
      ]
    },
    {
      "cell_type": "markdown",
      "source": [
        "El valor de una variable se puede resignar, sin embargo recordemos que siempre"
      ],
      "metadata": {
        "id": "bK9dkpIY0IFZ"
      }
    },
    {
      "cell_type": "code",
      "source": [
        "xp = True\n",
        "xp = False"
      ],
      "metadata": {
        "id": "6hEH7doU0ULm"
      },
      "execution_count": null,
      "outputs": []
    },
    {
      "cell_type": "markdown",
      "source": [
        "BUENAS PRAXIS\n",
        "\n",
        "```\n",
        ".Escribir todo en minuscula\n",
        ".Si se compone de dos palabras, usar _para separarlas\n",
        ".No usar -,arroba,$\n",
        "\n"
      ],
      "metadata": {
        "id": "hMs8OO7G1YsK"
      }
    },
    {
      "cell_type": "markdown",
      "source": [
        "DATA TYPE\n",
        "\n",
        "INT\n",
        "\n",
        "---\n",
        "\n",
        "\n",
        "\n",
        "---\n",
        "\n",
        "El tipo de dato integrar o entero simplemente int hace referencia a un valor numerico, dicho valor no permite almacenar numeros decimales\n",
        "sin embargo nos permite alojar numeros positivos o negativos\n"
      ],
      "metadata": {
        "id": "_0hEysZx7BuT"
      }
    },
    {
      "cell_type": "markdown",
      "source": [
        "FLOAT\n",
        "\n",
        "---\n",
        "\n",
        "\n",
        "\n",
        "---\n",
        "el dato flotante es aquel que hace referencia a un valor numerico el cual si permite numeros decimales\n",
        "\n"
      ],
      "metadata": {
        "id": "iaUhGCSO7Y9r"
      }
    },
    {
      "cell_type": "code",
      "source": [
        "pi = 3.141592\n",
        " apple_cost = 12.99"
      ],
      "metadata": {
        "id": "FD-ePUBL7ozF"
      },
      "execution_count": null,
      "outputs": []
    },
    {
      "cell_type": "markdown",
      "source": [
        "String\n",
        "\n",
        "---\n",
        "\n",
        "\n",
        "Los strings o Cadenas es un tipo de dato que nos permite alojar textos, estos se deben de poner siempre entre comillas\n",
        "\n",
        "\n"
      ],
      "metadata": {
        "id": "BLGWmuRW2KAF"
      }
    },
    {
      "cell_type": "code",
      "source": [
        "message = \"Saludos a todos\"\n",
        " user = \"@DavidSobrevilla\""
      ],
      "metadata": {
        "id": "BWzE_Hxq2uXB"
      },
      "execution_count": null,
      "outputs": []
    },
    {
      "cell_type": "markdown",
      "source": [
        "Boolean\n",
        "\n",
        "---\n",
        "\n",
        "los boleanos almacenan valores que pueden ser unicamente verdaderos o falsos.En pyhton escribimos con mayusculas la inicial del valor\n",
        "\n"
      ],
      "metadata": {
        "id": "RUwJ8ADh8VY3"
      }
    },
    {
      "cell_type": "code",
      "source": [
        "aprroved = False\n",
        "late_to-clase =True"
      ],
      "metadata": {
        "id": "u8JtX7-Z8mYe"
      },
      "execution_count": null,
      "outputs": []
    },
    {
      "cell_type": "markdown",
      "source": [
        "Concatenacion"
      ],
      "metadata": {
        "id": "jwMxuNTo3HvF"
      }
    },
    {
      "cell_type": "code",
      "source": [
        "print(name, age, verified)"
      ],
      "metadata": {
        "id": "qI_kgma83K7G"
      },
      "execution_count": null,
      "outputs": []
    },
    {
      "cell_type": "code",
      "source": [
        "print(\"Este es un texto: \", verified)"
      ],
      "metadata": {
        "colab": {
          "base_uri": "https://localhost:8080/",
          "height": 166
        },
        "id": "U616oG343Zlk",
        "outputId": "c3aa8a8b-8805-4cdf-8505-44deea333131"
      },
      "execution_count": null,
      "outputs": [
        {
          "output_type": "error",
          "ename": "NameError",
          "evalue": "ignored",
          "traceback": [
            "\u001b[0;31m---------------------------------------------------------------------------\u001b[0m",
            "\u001b[0;31mNameError\u001b[0m                                 Traceback (most recent call last)",
            "\u001b[0;32m<ipython-input-1-e48c9da01b3e>\u001b[0m in \u001b[0;36m<module>\u001b[0;34m\u001b[0m\n\u001b[0;32m----> 1\u001b[0;31m \u001b[0mprint\u001b[0m\u001b[0;34m(\u001b[0m\u001b[0;34m\"Este es un texto: \"\u001b[0m\u001b[0;34m,\u001b[0m \u001b[0mverified\u001b[0m\u001b[0;34m)\u001b[0m\u001b[0;34m\u001b[0m\u001b[0;34m\u001b[0m\u001b[0m\n\u001b[0m",
            "\u001b[0;31mNameError\u001b[0m: name 'verified' is not defined"
          ]
        }
      ]
    },
    {
      "cell_type": "markdown",
      "source": [
        "  imprimir el tipo de dato"
      ],
      "metadata": {
        "id": "fFrhiOmj3ouV"
      }
    },
    {
      "cell_type": "code",
      "source": [
        "print(type(\"Hola mundo\"))\n",
        "print(type(5))\n",
        "print(type(1.5))\n",
        "print(type(True))\n",
        "print(type(3 + 1))\n",
        "print(type(1,2,3))\n",
        "print(type({name: \"David\"}))\n",
        "\n",
        "\n"
      ],
      "metadata": {
        "id": "Epy-mhab3qka"
      },
      "execution_count": null,
      "outputs": []
    },
    {
      "cell_type": "markdown",
      "source": [
        "VARIABLES UNA SOLA LINEA\n",
        "\n",
        "---\n",
        "\n"
      ],
      "metadata": {
        "id": "wKjneZZJ4WP3"
      }
    },
    {
      "cell_type": "code",
      "source": [
        "name, surname, alias, age = \"David\", \"Sobrevilla\"\n",
        "\n",
        "print(\"Me llamo: \", name, surname)\n",
        "print(\"Mi edad es:\", age, \", Mis amigos me dicen:\", alias)"
      ],
      "metadata": {
        "id": "k5b-k1ad4bbR"
      },
      "execution_count": null,
      "outputs": []
    },
    {
      "cell_type": "markdown",
      "source": [
        "ASIGANAR VALOR A VARIABLES POR EL USUARIO\n",
        "\n",
        "---\n",
        "\n"
      ],
      "metadata": {
        "id": "-Jsuk0jj48Nd"
      }
    },
    {
      "cell_type": "code",
      "source": [
        "first_name = (input(¿\"¿Como te llamas?))\n",
        "age = (input(\"¿Cuantos años tienes?\"))\n",
        "\n",
        "print(firt_name)"
      ],
      "metadata": {
        "id": "i7rXlDP_5AgR"
      },
      "execution_count": null,
      "outputs": []
    },
    {
      "cell_type": "markdown",
      "source": [
        "FUNCIONES DEL SISTEMA\n",
        "\n",
        "---\n",
        "\n"
      ],
      "metadata": {
        "id": "tmMYWMwm5r3L"
      }
    },
    {
      "cell_type": "code",
      "source": [
        "print() = imprime en pantalla\n",
        "type() = nos da el tipo de dato\n",
        "len()=\n",
        "str()="
      ],
      "metadata": {
        "id": "YFwwgrmp5uK0"
      },
      "execution_count": null,
      "outputs": []
    },
    {
      "cell_type": "code",
      "source": [
        "my_int_variable = 4\n",
        "print(my:int_variable)\n",
        "pritn(type(my_int_variable))\n",
        "\n",
        "new_variable = str "
      ],
      "metadata": {
        "id": "o7cZ9xvt_Ew3"
      },
      "execution_count": null,
      "outputs": []
    },
    {
      "cell_type": "markdown",
      "source": [
        "FUNCIONES DEL SISTEMA"
      ],
      "metadata": {
        "id": "izn_VFc6-EnP"
      }
    },
    {
      "cell_type": "code",
      "source": [],
      "metadata": {
        "id": "cZIhSk0a-N6R"
      },
      "execution_count": null,
      "outputs": []
    }
  ]
}