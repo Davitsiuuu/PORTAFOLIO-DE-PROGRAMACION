{
  "nbformat": 4,
  "nbformat_minor": 0,
  "metadata": {
    "colab": {
      "provenance": [],
      "authorship_tag": "ABX9TyOT2A4bL6y6kGKkObyJwb+t",
      "include_colab_link": true
    },
    "kernelspec": {
      "name": "python3",
      "display_name": "Python 3"
    },
    "language_info": {
      "name": "python"
    }
  },
  "cells": [
    {
      "cell_type": "markdown",
      "metadata": {
        "id": "view-in-github",
        "colab_type": "text"
      },
      "source": [
        "<a href=\"https://colab.research.google.com/github/Davitsiuuu/PORTAFOLIO-DE-PROGRAMACION/blob/main/02_OPERADORES.ipynb\" target=\"_parent\"><img src=\"https://colab.research.google.com/assets/colab-badge.svg\" alt=\"Open In Colab\"/></a>"
      ]
    },
    {
      "cell_type": "markdown",
      "source": [
        "OPERATORS\n",
        "\n",
        "Las computadoras funcionan de principio a fin gracias a que hacen operaciones matematicas.Dentro de pyhotn tambien podemos hacer uso de estas operaciones aritmeticas para calcular cosas.\n"
      ],
      "metadata": {
        "id": "l7qCGId-_3F3"
      }
    },
    {
      "cell_type": "markdown",
      "source": [
        "OPERADORES ARITMETICOS\n",
        "\n",
        "---\n",
        "\n",
        "\n",
        "\n",
        "---\n",
        "\n"
      ],
      "metadata": {
        "id": "rj3JzEmZAPXp"
      }
    },
    {
      "cell_type": "code",
      "source": [
        "print(\"suma:\",1 + 2)\n",
        "print(\"Resta:\", 2 - 1)\n",
        "print(\"Multiplicacione:\", 2 * 3)\n",
        "print(\"Division:\", 4 / 2) #La division es pyhton asigna automaticamente numeros flotantes\n",
        "print(\"Division sin decimales:\", 7 // 2)\n",
        "print(\"Modulo:\", 3 % 2)\n",
        "print(\"Exponente:\", 2 ** 3)"
      ],
      "metadata": {
        "id": "kTFgbevdATDo"
      },
      "execution_count": null,
      "outputs": []
    },
    {
      "cell_type": "markdown",
      "source": [
        "Podemos tambien unir palabras hciendo uso de operadores"
      ],
      "metadata": {
        "id": "I6a931q7BMbO"
      }
    },
    {
      "cell_type": "code",
      "source": [
        "print(\"Hola\", \"Pyhton\")\n",
        "print(\"Hola\" + \"Pyhton\")\n",
        "print(\"Hola\" + \"Pyhton\")\n",
        "print(\"Hola \" * 5)"
      ],
      "metadata": {
        "id": "5nux_0QMBU53"
      },
      "execution_count": null,
      "outputs": []
    },
    {
      "cell_type": "code",
      "source": [
        "#Estas funciones nos facilitan mucho ciertos trabajos como por ejemplo\n",
        "for i in range(11):\n",
        "  print(\"* + 1\")"
      ],
      "metadata": {
        "id": "sUK6fxqWBk4M"
      },
      "execution_count": null,
      "outputs": []
    },
    {
      "cell_type": "markdown",
      "source": [
        "Ademas podemos hacer uso de estos operadores junto a las variables"
      ],
      "metadata": {
        "id": "PBxXxpz2CD0K"
      }
    },
    {
      "cell_type": "code",
      "source": [
        "pizza = 20\n",
        "refresco = 15\n",
        "\n",
        "compra = pizza + refresco\n",
        "propina = compra + 0.2\n",
        "Total = compra + propina\n",
        "\n",
        "print(\"Usted debe pagar:\", compra , \"De propina usted debe:\",  propina , \"Su total es:\", total)"
      ],
      "metadata": {
        "id": "z9zXn3A0CJ2g"
      },
      "execution_count": null,
      "outputs": []
    },
    {
      "cell_type": "code",
      "source": [
        "#Estas funciones nos facilitan mucho ciertos trabajos como por ejemplo\n",
        "x = 1\n",
        "suma = 0\n",
        "while x \n",
        "suma = suma+x\n",
        "x += 1\n",
        "print(suma)"
      ],
      "metadata": {
        "id": "0eQMIdCCC-mI"
      },
      "execution_count": null,
      "outputs": []
    },
    {
      "cell_type": "markdown",
      "source": [
        "OPERDADORES DE COMPARACION"
      ],
      "metadata": {
        "id": "hb_wvjzNDRNe"
      }
    },
    {
      "cell_type": "code",
      "source": [
        "print(\"igual a:\", 2 ==2) #TRUE\n",
        "print(\"igual a:\", 2 == 2.00) #VILLA DICE QUE NO\n",
        "print('igual a:', 2 == 1.99999) #FALSE"
      ],
      "metadata": {
        "id": "8VslRwdWDUQ5"
      },
      "execution_count": null,
      "outputs": []
    },
    {
      "cell_type": "code",
      "source": [
        "print('Dsitinto de:', 2  i= 2) #FALSE\n",
        "print('Distinto de:', 2 i= 3) #TRUE"
      ],
      "metadata": {
        "id": "9vs-LV6bDwIH"
      },
      "execution_count": null,
      "outputs": []
    },
    {
      "cell_type": "code",
      "source": [
        "print('Mayor que:', 2 > 3) #FALSE\n",
        "print('Menor que:', 2 < 3) #TRUE\n",
        "print('Mayor o igual que:', 4 >= 3) #TRUE\n",
        "print('Mayor o igual que:', 3 >= 3) #TRUE\n",
        "print('Mayor o igual que:', 3 <= 4) #TRUE\n",
        "print('Menor o igual que:', 3 <= 4) #TRUE\n",
        "print('Menor o igual que:', 4 <= 4) #TRUE"
      ],
      "metadata": {
        "id": "xhyZZlmcEGPO"
      },
      "execution_count": null,
      "outputs": []
    },
    {
      "cell_type": "markdown",
      "source": [
        "Tambien podemos hacer uso de estos operadores junto a textos"
      ],
      "metadata": {
        "id": "LwnDwAXdFZbk"
      }
    },
    {
      "cell_type": "code",
      "source": [
        "print{len('mango') == len('melon')}\n",
        "print{len('mango') i= len('melon')}\n",
        "print"
      ],
      "metadata": {
        "id": "mqMz5QdyFeOz"
      },
      "execution_count": null,
      "outputs": []
    },
    {
      "cell_type": "markdown",
      "source": [
        "Operadores de comparacion con texto\n",
        "\n",
        ".is regresa True si ambas variables son del mismo tipo.\n",
        ".is not Regresa True si ambas variables NO son del mismo tipo.\n",
        "In Regresa True si el valor inicial se encuentra en el valor secundario\n",
        ".not Regresa True sin el valor inicial NO se encuentra en el valor secundario"
      ],
      "metadata": {
        "id": "17F0jWEAGH66"
      }
    },
    {
      "cell_type": "code",
      "source": [],
      "metadata": {
        "id": "PUklrNlWGKhA"
      },
      "execution_count": null,
      "outputs": []
    },
    {
      "cell_type": "markdown",
      "source": [
        "OPERADORES LOGICOS"
      ],
      "metadata": {
        "id": "KnbryFEpG4sD"
      }
    },
    {
      "cell_type": "code",
      "source": [
        "+And regresa True si ambas condiciones se cumplen\n",
        "+or Regresa True si una o ambas condicionales se cumplen\n",
        "+not regresa True si el valor es False"
      ],
      "metadata": {
        "id": "NPzyS3PnG6xn"
      },
      "execution_count": null,
      "outputs": []
    },
    {
      "cell_type": "code",
      "source": [
        "print(3 > 2 and 4 > 3) #True = porque ambas condiciones se cumplen\n",
        "print(3 > 2 and 4 > 3) #False = por que la segunda condicion es falsa\n",
        "print(3 < 2 and 4 < 3) #False = por que ambas condiciones son falsas\n",
        "print('True and True:', True and True)\n",
        "\n",
        "print(3 > 2 or 4 > 3) #True = ambas condiciones se cumplen\n",
        "print(3 > 2 or 4 < 3) #True ="
      ],
      "metadata": {
        "id": "nTRkBOOjHI4p"
      },
      "execution_count": null,
      "outputs": []
    }
  ]
}